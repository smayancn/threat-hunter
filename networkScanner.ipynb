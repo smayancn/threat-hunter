{
 "cells": [
  {
   "cell_type": "code",
   "execution_count": null,
   "metadata": {
    "id": "-47yVeRzHlfF"
   },
   "outputs": [],
   "source": [
    "import socket as so\n",
    "import time\n",
    "import struct\n",
    "import csv"
   ]
  },
  {
   "cell_type": "code",
   "execution_count": null,
   "metadata": {
    "collapsed": true,
    "id": "i4V9ZNlTH42P"
   },
   "outputs": [],
   "source": [
    "def capture_packets(duration = 5):\n",
    "  raw_socket = so.socket(so.AF_PACKET, so.SOCK_RAW, so.ntohs(3))\n",
    "\n",
    "  start_time = time.time()\n",
    "  packets = []\n",
    "\n",
    "  while (time.time() - start_time < duration):\n",
    "      raw_data, _ = raw_socket.recvfrom(65535)\n",
    "      packet = extract_features(raw_data)\n",
    "      packets.append(packet)\n",
    "\n",
    "  return packets"
   ]
  },
  {
   "cell_type": "code",
   "execution_count": null,
   "metadata": {
    "id": "V8LeQEXbK-N9"
   },
   "outputs": [],
   "source": [
    "def extract_features(data):\n",
    "  eth_header = struct.unpack(\"!6s6sH\", data[:14])\n",
    "  dest_mac = \":\".join(f\"{b:02x}\" for b in eth_header[0])\n",
    "  src_mac = \":\".join(f\"{b:02x}\" for b in eth_header[1])\n",
    "\n",
    "  protocol = eth_header[2]\n",
    "\n",
    "  ip_header = data[14:34]\n",
    "  src_ip = \".\".join(map(str, ip_header[12:16]))\n",
    "  dest_ip = \".\".join(map(str, ip_header[16:20]))\n",
    "\n",
    "  return{\n",
    "      \"src_ip\": src_ip,\n",
    "      \"dest_ip\": dest_ip,\n",
    "      \"src_mac\": src_mac,\n",
    "      \"dest_mac\": dest_mac,\n",
    "      \"packet_size\": len(data),\n",
    "      \"protocol\": protocol\n",
    "  }"
   ]
  },
  {
   "cell_type": "code",
   "execution_count": null,
   "metadata": {
    "id": "6XMzqsS3La69"
   },
   "outputs": [],
   "source": [
    "def save_to_csv(packets, file_name = \"network_logs.csv\"):\n",
    "  with open(file_name, \"w\", newline = \"\") as file:\n",
    "    writer = csv.writer(file)\n",
    "    writer.writerow(packets[0].keys())\n",
    "    for packet in packets:\n",
    "      writer.writerow(packet.values())"
   ]
  },
  {
   "cell_type": "code",
   "execution_count": null,
   "metadata": {
    "colab": {
     "base_uri": "https://localhost:8080/"
    },
    "executionInfo": {
     "elapsed": 5376,
     "status": "ok",
     "timestamp": 1743220034758,
     "user": {
      "displayName": "Varun :D",
      "userId": "10638528873400222835"
     },
     "user_tz": -330
    },
    "id": "OZx1Cc5ZQvG-",
    "outputId": "45f19720-7321-455d-e7d5-3d2b01f1ef5b"
   },
   "outputs": [
    {
     "name": "stdout",
     "output_type": "stream",
     "text": [
      "Captured 349 packets\n"
     ]
    }
   ],
   "source": [
    "packets = capture_packets(duration=5)\n",
    "print(f\"Captured {len(packets)} packets\")\n",
    "save_to_csv(packets)"
   ]
  }
 ],
 "metadata": {
  "colab": {
   "authorship_tag": "ABX9TyMV3rVYdp4GYwCm+IDXIlz1",
   "provenance": []
  },
  "kernelspec": {
   "display_name": "Python 3",
   "name": "python3"
  },
  "language_info": {
   "name": "python",
   "version": "3.12.10"
  }
 },
 "nbformat": 4,
 "nbformat_minor": 0
}
